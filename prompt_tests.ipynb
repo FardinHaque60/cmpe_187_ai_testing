{
 "cells": [
  {
   "cell_type": "markdown",
   "id": "73ae98f2-f99d-41dc-8d26-babd955652ce",
   "metadata": {},
   "source": [
    "# Experiments\n",
    "\n",
    "notebook includes experiments using `deepseek-r1-distill-qween-7b`, `o3-mini-2025-01-31`, and `gemini-2.0-flash`\n",
    "\n",
    "metrics:\n",
    "- `deepseek-r1-distill-qween-7b`:\n",
    "    - cost: Free, open sourced running locally\n",
    "    - rate limits:\n",
    "        - no rate limits since running locally\n",
    "        - context length: 4096 tokens per prompt\n",
    "        - 7B paramter pre trained model\n",
    "\n",
    "- `o3-mini-2025-01-31`:\n",
    "    - cost: $1.1 per 1M tokens\n",
    "    - rate limits:\n",
    "        - requests per minute: 1,000\n",
    "        - tokens per minute: 100,000\n",
    "    - check openai balance: https://platform.openai.com/settings/organization/billing/overview\n",
    "\n",
    "- `gemini-2.0-flash`:\n",
    "    - cost: Free tier\n",
    "    - rate limits:\n",
    "        - requests per minute: 15\n",
    "        - tokens per minute: 1,000,000\n",
    "        - requests per day: 1,500"
   ]
  },
  {
   "cell_type": "markdown",
   "id": "7419efd9-bb88-46b2-835f-3292897e2444",
   "metadata": {},
   "source": [
    "## Define Run Tests Function"
   ]
  },
  {
   "cell_type": "markdown",
   "id": "a192c50c-1e91-498a-8af6-11c84286a184",
   "metadata": {},
   "source": [
    "### Define API calls to models"
   ]
  },
  {
   "cell_type": "code",
   "execution_count": 1,
   "id": "5578247c-e826-4287-a113-cec3b41b426f",
   "metadata": {},
   "outputs": [],
   "source": [
    "from openai import OpenAI\n",
    "import requests\n",
    "from google import genai\n",
    "import os\n",
    "import time\n",
    "import pandas as pd\n",
    "client = OpenAI()\n",
    "\n",
    "def gpt(messages=[{\n",
    "            \"role\": \"user\",\n",
    "            \"content\": \"Write a one-sentence bedtime story about a unicorn.\"\n",
    "        }]):\n",
    "    start_time = time.time()\n",
    "    \n",
    "    completion = client.chat.completions.create(\n",
    "        model=\"o3-mini-2025-01-31\",\n",
    "        messages=messages\n",
    "    )\n",
    "    end_time = time.time()\n",
    "    elapsed_time = end_time - start_time\n",
    "\n",
    "    return (completion.choices[0].message.content, elapsed_time)\n",
    "\n",
    "def gemini(message=\"Explain how AI works\"):\n",
    "    client = genai.Client(api_key=os.environ[\"GEMINI_API_KEY\"])\n",
    "    \n",
    "    start_time = time.time()\n",
    "    response = client.models.generate_content(\n",
    "        model=\"gemini-2.0-flash\",\n",
    "        contents=message,\n",
    "    )\n",
    "    end_time = time.time()\n",
    "    elapsed_time = end_time - start_time\n",
    "    \n",
    "    return (response.text, elapsed_time)\n",
    "\n",
    "def deepseek(messages=[\n",
    "          { \"role\": \"system\", \"content\": \"Always answer in rhymes. Today is Thursday\" },\n",
    "          { \"role\": \"user\", \"content\": \"What day is it today?\" }\n",
    "        ]):\n",
    "    '''\n",
    "        curl example: \n",
    "        curl http://localhost:1234/v1/chat/completions \\\n",
    "          -H \"Content-Type: application/json\" \\\n",
    "          -d '{\n",
    "            \"model\": \"deepseek-r1-distill-qwen-7b\",\n",
    "            \"messages\": [\n",
    "              { \"role\": \"system\", \"content\": \"Always answer in rhymes. Today is Thursday\" },\n",
    "              { \"role\": \"user\", \"content\": \"What day is it today?\" }\n",
    "            ],\n",
    "            \"temperature\": 0.7,\n",
    "            \"max_tokens\": -1,\n",
    "            \"stream\": false\n",
    "        }'\n",
    "    '''\n",
    "    request = {\n",
    "        \"model\": \"deepseek-r1-distill-qwen-7b\",\n",
    "        \"messages\": messages,\n",
    "        \"temperature\": 0.7,\n",
    "        \"max_tokens\": -1,\n",
    "        \"stream\": False\n",
    "    }\n",
    "    \n",
    "    start_time = time.time()\n",
    "    response = requests.post('http://localhost:1234/v1/chat/completions', json=request)\n",
    "    end_time = time.time()\n",
    "    elapsed_time = end_time - start_time\n",
    "    \n",
    "    if response.status_code == 200:\n",
    "        return (response.json()['choices'][0]['message']['content'], elapsed_time)\n",
    "    else:\n",
    "        return (response.text, elapsed_time)"
   ]
  },
  {
   "cell_type": "markdown",
   "id": "65aa2e00-ef5e-417c-9be4-2f1a524b91b1",
   "metadata": {},
   "source": [
    "### Run Models Function"
   ]
  },
  {
   "cell_type": "code",
   "execution_count": 2,
   "id": "93a76568-624a-4d11-977e-1f5d03a27f65",
   "metadata": {},
   "outputs": [],
   "source": [
    "def run_gpt(responses, times, p):\n",
    "    gpt_response = gpt(messages=[{'role': 'user', 'content': p}])\n",
    "    responses.append(gpt_response[0])\n",
    "    times.append(gpt_response[1])\n",
    "\n",
    "def run_models(responses, times, p):\n",
    "    gpt_response = gpt(messages=[{'role': 'user', 'content': p}])\n",
    "    responses[0].append(gpt_response[0])\n",
    "    times[0].append(gpt_response[1])\n",
    "\n",
    "    deepseek_response = deepseek(messages=[{'role': 'user', 'content': p}])\n",
    "    responses[1].append(deepseek_response[0])\n",
    "    times[1].append(deepseek_response[1])\n",
    "\n",
    "    gemini_response = gemini(message=p)\n",
    "    responses[2].append(gemini_response[0])\n",
    "    times[2].append(gemini_response[1])"
   ]
  },
  {
   "cell_type": "markdown",
   "id": "75bbb3d8-0cca-4684-a245-ff83710bf5ee",
   "metadata": {},
   "source": [
    "### Generate Plots Function"
   ]
  },
  {
   "cell_type": "code",
   "execution_count": 7,
   "id": "cc08e5aa-33eb-42fe-bfcd-0b84dd9cd382",
   "metadata": {},
   "outputs": [],
   "source": [
    "from IPython.display import display, Markdown\n",
    "import pandas as pd\n",
    "import re\n",
    "\n",
    "def generate_gpt_table(test_name, prompts, responses, times):\n",
    "    # init data frame with model response lists\n",
    "    test_results_df = pd.DataFrame({\n",
    "        'Prompt': prompts,\n",
    "        'GPT': responses,\n",
    "        'GPT Time': times,\n",
    "    })\n",
    "\n",
    "    print(f\"{test_name} results:\")\n",
    "    display(Markdown(test_results_df.to_markdown()))\n",
    "\n",
    "def generate_table(test_name, prompts, responses, times):\n",
    "    # init data frame with model response lists\n",
    "    test_results_df = pd.DataFrame({\n",
    "        'Prompt': prompts,\n",
    "        'GPT': responses[0],\n",
    "        'GPT Time': times[0],\n",
    "        'Deepseek': responses[1],\n",
    "        'Deepseek Time': times[1],\n",
    "        'Gemini': responses[2],\n",
    "        'Gemini Time': times[2],\n",
    "    })\n",
    "    \n",
    "    # clean cells, remove think tags from deepseek and remove new lines\n",
    "    def remove_think_tags(cell):\n",
    "        if isinstance(cell, str): \n",
    "            cell = re.sub(r'<think>.*?</think>', '', cell, flags=re.DOTALL)\n",
    "            cell = cell.replace('\\n', ' ')\n",
    "        return cell\n",
    "\n",
    "    # apply filters and render in markdown\n",
    "    def render_dataframe_as_markdown(df):\n",
    "        df_cleaned = df.map(remove_think_tags)\n",
    "        display(Markdown(df_cleaned.to_markdown()))\n",
    "\n",
    "    print(f\"{test_name} results:\")\n",
    "    render_dataframe_as_markdown(test_results_df)"
   ]
  },
  {
   "cell_type": "markdown",
   "id": "d7505c31-ec3b-4a29-a323-9be7467f81c0",
   "metadata": {},
   "source": [
    "### Wrapped Function"
   ]
  },
  {
   "cell_type": "code",
   "execution_count": 8,
   "id": "09f54bb5-d531-4075-b1b3-025a2d1ac1f3",
   "metadata": {},
   "outputs": [],
   "source": [
    "def run_gpt_tests(test_name, prompts):\n",
    "    responses = []\n",
    "    times = []\n",
    "    print(f\"gpt o3-mini warming up for {test_name}\")\n",
    "    for p in prompts:\n",
    "        run_gpt(responses, times, p)\n",
    "    print(f\"gpt inferencing finished for {test_name}\")\n",
    "    generate_gpt_table(test_name, prompts, responses, times)\n",
    "    return responses, times\n",
    "\n",
    "def run_tests_e2e(test_name, prompts):\n",
    "    # ind 0 is gpt, 1 is deepsek, 2 is gemini\n",
    "    responses = [[],[],[]]\n",
    "    times = [[],[],[]]\n",
    "    print(f\"models warming up for {test_name}\")\n",
    "    for p in prompts:\n",
    "        run_models(responses, times, p)\n",
    "    print(f\"models inferencing finished for {test_name}\")\n",
    "    generate_table(test_name, prompts, responses, times)\n",
    "    return responses, times"
   ]
  },
  {
   "cell_type": "markdown",
   "id": "98b13ff0-1ae7-45df-a5ea-a515ce5762d4",
   "metadata": {},
   "source": [
    "## AI explainability and interpretability prompts (White Box)"
   ]
  },
  {
   "cell_type": "code",
   "execution_count": 9,
   "id": "d93ea78a-5d41-4ea6-bf98-eb77e7419622",
   "metadata": {},
   "outputs": [
    {
     "name": "stdout",
     "output_type": "stream",
     "text": [
      "gpt o3-mini warming up for retrival test\n",
      "gpt inferencing finished for retrival test\n",
      "retrival test results:\n"
     ]
    },
    {
     "data": {
      "text/markdown": [
       "|    | Prompt                                                                                              | GPT                                                                                                                                                                                                                                                                       |   GPT Time |\n",
       "|---:|:----------------------------------------------------------------------------------------------------|:--------------------------------------------------------------------------------------------------------------------------------------------------------------------------------------------------------------------------------------------------------------------------|-----------:|\n",
       "|  0 | How many points did Lebron James score on October 18th, 2018 against the Portland Trailblazers?     | On October 18, 2018, in his debut for the Los Angeles Lakers during the 2018–19 season, LeBron James scored 26 points against the Portland Trail Blazers.                                                                                                                 |   27.7599  |\n",
       "|    |                                                                                                     |                                                                                                                                                                                                                                                                           |            |\n",
       "|    |                                                                                                     | In that season-opening game, he also contributed significantly in other statistical categories, recording 11 rebounds and 11 assists to notch a triple‐double. Despite his strong performance, the Lakers ultimately fell short.                                          |            |\n",
       "|    |                                                                                                     |                                                                                                                                                                                                                                                                           |            |\n",
       "|    |                                                                                                     | This information is based on the official box score and widely reported recaps from the game.                                                                                                                                                                             |            |\n",
       "|  1 | How many championships has Steph Curry won in his career?                                           | Steph Curry has won four NBA championships. He secured these titles with the Golden State Warriors in 2015, 2017, 2018, and 2022.                                                                                                                                         |    3.35578 |\n",
       "|  2 | How many games did Andre Iguodala miss in the 2016-2017 regular season?                             | During the 2016–17 NBA regular season, the Golden State Warriors played 82 games in total, and Iguodala appeared in 77 of them. That means he missed 5 regular‐season games that year.                                                                                    |   21.976   |\n",
       "|  3 | What were the top 3 overall teams in terms of standings at the end of the 1996-1997 regular season? | Assuming you’re asking about the National Basketball Association’s 1996–97 season, here’s a rundown of the best records from that year:                                                                                                                                   |   16.7752  |\n",
       "|    |                                                                                                     |                                                                                                                                                                                                                                                                           |            |\n",
       "|    |                                                                                                     | • The Chicago Bulls finished with a 69–13 record, which was the best in the league.                                                                                                                                                                                       |            |\n",
       "|    |                                                                                                     |                                                                                                                                                                                                                                                                           |            |\n",
       "|    |                                                                                                     | • The Utah Jazz ended the season at 64–18, ranking second overall.                                                                                                                                                                                                        |            |\n",
       "|    |                                                                                                     |                                                                                                                                                                                                                                                                           |            |\n",
       "|    |                                                                                                     | • In third place, there was a tie: both the Miami Heat and the Seattle SuperSonics finished 61–21, meaning they shared the league’s third-best win–loss percentage.                                                                                                       |            |\n",
       "|    |                                                                                                     |                                                                                                                                                                                                                                                                           |            |\n",
       "|    |                                                                                                     | So, if “top 3 overall teams” refers strictly to win–loss records, the Bulls were first, the Jazz second, and the Heat and Sonics tied for third. (Note that when sorting the entire league by record, there wasn’t a single “third” team but rather a tie for that spot.) |            |"
      ],
      "text/plain": [
       "<IPython.core.display.Markdown object>"
      ]
     },
     "metadata": {},
     "output_type": "display_data"
    },
    {
     "name": "stdout",
     "output_type": "stream",
     "text": [
      "gpt o3-mini warming up for reasoning test\n",
      "gpt inferencing finished for reasoning test\n",
      "reasoning test results:\n"
     ]
    },
    {
     "data": {
      "text/markdown": [
       "|    | Prompt                                                                                                                                         | GPT                                                                                                                                                                                                                                 |   GPT Time |\n",
       "|---:|:-----------------------------------------------------------------------------------------------------------------------------------------------|:------------------------------------------------------------------------------------------------------------------------------------------------------------------------------------------------------------------------------------|-----------:|\n",
       "|  0 | What do you get if you add Lebron James career point total with Kobe Bryant's career points total?                                             | Keep in mind that Kobe Bryant’s career is finished while LeBron James is still active—so any total using LeBron’s points is a “moving target.” That said, here’s one way to break it down:                                          |   13.2005  |\n",
       "|    |                                                                                                                                                |                                                                                                                                                                                                                                     |            |\n",
       "|    |                                                                                                                                                | • Kobe Bryant’s NBA career total is officially 33,643 points.                                                                                                                                                                       |            |\n",
       "|    |                                                                                                                                                | • Recent official counts put LeBron James at roughly 38,650 career points (and he’s still adding to that total).                                                                                                                    |            |\n",
       "|    |                                                                                                                                                |                                                                                                                                                                                                                                     |            |\n",
       "|    |                                                                                                                                                | If you add these numbers together, you get about 33,643 + 38,650 ≈ 72,293 points.                                                                                                                                                   |            |\n",
       "|    |                                                                                                                                                |                                                                                                                                                                                                                                     |            |\n",
       "|    |                                                                                                                                                | So, based on these figures, the sum is roughly 72,300 points. (Your exact number might vary slightly depending on the most current count for LeBron’s career points.)                                                               |            |\n",
       "|  1 | If you take the Miami Heat's regular season seed standing in the 2013 season compared to their seed in the 2010 season what is the difference? | In the 2009–10 season the Heat finished the regular season as the fifth seed in the Eastern Conference, while by the 2012–13 season they earned the second seed. That is a difference of three seed spots between the two seasons.  |   28.9588  |\n",
       "|    |                                                                                                                                                |                                                                                                                                                                                                                                     |            |\n",
       "|    |                                                                                                                                                | To explain a bit more:                                                                                                                                                                                                              |            |\n",
       "|    |                                                                                                                                                | • In 2010 the Heat’s regular‐season record placed them in the fifth playoff spot in the East.                                                                                                                                       |            |\n",
       "|    |                                                                                                                                                | • In 2013 the team improved their standing, finishing as the second seed.                                                                                                                                                           |            |\n",
       "|    |                                                                                                                                                | Thus, comparing the two, the team’s seeding improved by three spots.                                                                                                                                                                |            |\n",
       "|  2 | If you add Micheal Jordan's and Wilt Chamberlain's highest scoring games point total together, what do you get?                                | Michael Jordan's highest-scoring game was 69 points, and Wilt Chamberlain famously scored 100 points in his highest-scoring game. Adding them together gives 69 + 100 = 169.                                                        |    4.75703 |\n",
       "|    |                                                                                                                                                |                                                                                                                                                                                                                                     |            |\n",
       "|    |                                                                                                                                                | Thus, the total is 169 points.                                                                                                                                                                                                      |            |\n",
       "|  3 | How many combined MVP awards do Russell Westbrook and Kareem Abdul-Jabbar have?                                                                | Kareem Abdul-Jabbar won the NBA MVP award six times during his career, while Russell Westbrook has not won an NBA regular season MVP award. So together, they have 6 MVP awards.                                                    |    6.35496 |"
      ],
      "text/plain": [
       "<IPython.core.display.Markdown object>"
      ]
     },
     "metadata": {},
     "output_type": "display_data"
    },
    {
     "name": "stdout",
     "output_type": "stream",
     "text": [
      "gpt o3-mini warming up for long prompt test\n",
      "gpt inferencing finished for long prompt test\n",
      "long prompt test results:\n"
     ]
    },
    {
     "data": {
      "text/markdown": [
       "|    | Prompt                                                                                                                                          | GPT                                                                                                                                                                                                                                                                                                                                                                                                                                                                                                                                                                                                                                                                                                                            |   GPT Time |\n",
       "|---:|:------------------------------------------------------------------------------------------------------------------------------------------------|:-------------------------------------------------------------------------------------------------------------------------------------------------------------------------------------------------------------------------------------------------------------------------------------------------------------------------------------------------------------------------------------------------------------------------------------------------------------------------------------------------------------------------------------------------------------------------------------------------------------------------------------------------------------------------------------------------------------------------------|-----------:|\n",
       "|  0 | Consider two elite scorers from the 2022-2023 NBA season: Joel Embiid and Luka Dončić. Embiid won the scoring title averaging 33.1 PPG          | Based solely on the provided scoring and efficiency numbers, Embiid was the more efficient scorer. While both put up strong PPG, Embiid's higher FG% (54.8% vs. 49.6%) and notably higher TS% (65.5% vs. 60.9%) indicate he converted his scoring opportunities at a higher rate than Dončić.                                                                                                                                                                                                                                                                                                                                                                                                                                  |    4.02392 |\n",
       "|    |     on 54.8% FG and 65.5% True Shooting (TS%). Dončić averaged 32.4 PPG on 49.6% FG and 60.9% TS%. Both players had extremely high usage rates, |                                                                                                                                                                                                                                                                                                                                                                                                                                                                                                                                                                                                                                                                                                                                |            |\n",
       "|    |     dominating the ball for their respective teams, the 76ers and Mavericks. Embiid primarily operated from the post and midrange, while Dončić | TS% (True Shooting Percentage) is a more comprehensive measure of a player's scoring efficiency than FG% because it accounts not only for field goals but also for the additional value of three-pointers and free throws. Whereas FG% only tells you how many of the shots taken from the field were made, TS% provides insight into how effectively a player scores points from all available opportunities, combining the efficiency of shooting, three-point accuracy, and free throw production.                                                                                                                                                                                                                          |            |\n",
       "|    |     heavily relied on step-back threes and drives. Based purely on the provided PPG and efficiency metrics (FG%, TS%), which player scored more |                                                                                                                                                                                                                                                                                                                                                                                                                                                                                                                                                                                                                                                                                                                                |            |\n",
       "|    |     efficiently during this season? Briefly explain what TS% tells us compared to just FG% in this context.                                     |                                                                                                                                                                                                                                                                                                                                                                                                                                                                                                                                                                                                                                                                                                                                |            |\n",
       "|  1 | Let's look at the Memphis Grizzlies. In the 2021-2022 season, they finished with the 4th best Offensive Rating (114.3) and 6th best             | Let’s break down the numbers and what they suggest about the team’s evolution.                                                                                                                                                                                                                                                                                                                                                                                                                                                                                                                                                                                                                                                 |   12.1085  |\n",
       "|    |     Defensive Rating (108.9), playing at the 3rd fastest Pace (101.02). They relied heavily on Ja Morant's drives, offensive rebounding,        |                                                                                                                                                                                                                                                                                                                                                                                                                                                                                                                                                                                                                                                                                                                                |            |\n",
       "|    |     and transition offense. The following season, 2022-2023, their Offensive Rating was 11th (114.7), Defensive Rating improved to 3rd          | 1. Net Rating Comparison                                                                                                                                                                                                                                                                                                                                                                                                                                                                                                                                                                                                                                                                                                       |            |\n",
       "|    |     (110.7), and Pace remained high at 3rd (101.33). Despite Morant missing significant time, their defense anchored by Jaren Jackson Jr.       |                                                                                                                                                                                                                                                                                                                                                                                                                                                                                                                                                                                                                                                                                                                                |            |\n",
       "|    |     became more dominant. Did the Grizzlies become a better overall team based on net rating (Off Rating - Def Rating)? How did their           | • 2021–2022: The Grizzlies posted an Offensive Rating of 114.3 and a Defensive Rating of 108.9. Taking the difference gives a net rating of roughly 114.3 – 108.9 = +5.4.                                                                                                                                                                                                                                                                                                                                                                                                                                                                                                                                                      |            |\n",
       "|    |     identity slightly shift between these two seasons according to these ratings and ranks?                                                     |                                                                                                                                                                                                                                                                                                                                                                                                                                                                                                                                                                                                                                                                                                                                |            |\n",
       "|    |                                                                                                                                                 | • 2022–2023: Their Offensive Rating was 114.7 while the Defensive Rating was 110.7. The net rating here is about 114.7 – 110.7 = +4.0.                                                                                                                                                                                                                                                                                                                                                                                                                                                                                                                                                                                         |            |\n",
       "|    |                                                                                                                                                 |                                                                                                                                                                                                                                                                                                                                                                                                                                                                                                                                                                                                                                                                                                                                |            |\n",
       "|    |                                                                                                                                                 | Based solely on net rating, the team’s overall efficiency dipped slightly from +5.4 to +4.0. In that sense, they weren’t “better” overall on this one metric, though they remained very competitive.                                                                                                                                                                                                                                                                                                                                                                                                                                                                                                                           |            |\n",
       "|    |                                                                                                                                                 |                                                                                                                                                                                                                                                                                                                                                                                                                                                                                                                                                                                                                                                                                                                                |            |\n",
       "|    |                                                                                                                                                 | 2. Shifts in Team Identity                                                                                                                                                                                                                                                                                                                                                                                                                                                                                                                                                                                                                                                                                                     |            |\n",
       "|    |                                                                                                                                                 |                                                                                                                                                                                                                                                                                                                                                                                                                                                                                                                                                                                                                                                                                                                                |            |\n",
       "|    |                                                                                                                                                 | Looking deeper at the context behind the ratings and ranks offers some insight into how the team’s identity evolved:                                                                                                                                                                                                                                                                                                                                                                                                                                                                                                                                                                                                           |            |\n",
       "|    |                                                                                                                                                 |                                                                                                                                                                                                                                                                                                                                                                                                                                                                                                                                                                                                                                                                                                                                |            |\n",
       "|    |                                                                                                                                                 | • 2021–2022: The Grizzlies were very much an offensive, fast-paced team. They ranked 4th in offensive production and played at the 3rd fastest pace in the league. Their system was built around Ja Morant’s explosive drives, grabbing offensive rebounds to create second-chance opportunities, and a strong transition game. The defense, while good (6th in Defensive Rating), wasn’t the primary pillar.                                                                                                                                                                                                                                                                                                                  |            |\n",
       "|    |                                                                                                                                                 |                                                                                                                                                                                                                                                                                                                                                                                                                                                                                                                                                                                                                                                                                                                                |            |\n",
       "|    |                                                                                                                                                 | • 2022–2023: Even though their offensive numbers stayed relatively high (114.7, albeit ranked 11th) and they maintained a similarly fast pace, the defensive side of the ball took on a bigger role. With Morant missing significant time, Memphis leaned more on a defensive identity anchored by Jaren Jackson Jr. This shift is reflected in the improved defensive ranking (3rd best) even if the raw number (110.7) might look less impressive compared to the previous season’s 108.9. (Keep in mind that rankings can shift based on league-wide efficiency changes and relative performance.) In effect, the team became more balanced, leaning on a stout defense to mask the slight dip in offensive net production. |            |\n",
       "|    |                                                                                                                                                 |                                                                                                                                                                                                                                                                                                                                                                                                                                                                                                                                                                                                                                                                                                                                |            |\n",
       "|    |                                                                                                                                                 | 3. Conclusion                                                                                                                                                                                                                                                                                                                                                                                                                                                                                                                                                                                                                                                                                                                  |            |\n",
       "|    |                                                                                                                                                 |                                                                                                                                                                                                                                                                                                                                                                                                                                                                                                                                                                                                                                                                                                                                |            |\n",
       "|    |                                                                                                                                                 | So, while the Grizzlies’ net rating fell a bit from +5.4 to +4.0—a small decline in overall efficiency—the qualitative shift is key. The 2021–2022 team was characterized by a high-powered, transition-oriented offense around Ja Morant’s dynamic play. In 2022–2023, with Morant’s time missed and a greater emphasis on team defense (thanks to Jaren Jackson Jr. and a system adjustment), Memphis adopted an identity that balanced their fast pace and potent scoring with an elite defensive presence.                                                                                                                                                                                                                 |            |\n",
       "|    |                                                                                                                                                 |                                                                                                                                                                                                                                                                                                                                                                                                                                                                                                                                                                                                                                                                                                                                |            |\n",
       "|    |                                                                                                                                                 | Thus, based on net rating alone, they didn’t become “better” overall; instead, they shifted their identity—moving from an offensively explosive unit to a team with a greater defensive emphasis while still preserving much of their fast-paced edge.                                                                                                                                                                                                                                                                                                                                                                                                                                                                         |            |\n",
       "|  2 | Nikola Jokić finished the 2022-2023 NBA season with a Value Over Replacement Player (VORP) rating of 8.8, leading the league.                   | A VORP of 8.8 means that, over the season, Jokić contributed roughly 8.8 more wins than a typical “replacement-level” player would have. While his traditional stats of 24.5 points, 11.8 rebounds, and 9.8 assists per game already suggest he was a dominant all-around performer, the league-leading VORP puts those numbers in context by quantifying his overall impact on the Nuggets’ success.                                                                                                                                                                                                                                                                                                                          |   13.0159  |\n",
       "|    |     VORP is an estimate of a player's overall contribution to the team, measured in points per 100 team possessions, translated into            |                                                                                                                                                                                                                                                                                                                                                                                                                                                                                                                                                                                                                                                                                                                                |            |\n",
       "|    |     wins above what a readily available 'replacement-level' player would provide over the season. Jokić also averaged impressive                | Here’s what that high VORP tells us:                                                                                                                                                                                                                                                                                                                                                                                                                                                                                                                                                                                                                                                                                           |            |\n",
       "|    |     traditional stats: 24.5 points, 11.8 rebounds, and 9.8 assists per game. How does his league-leading VORP score add context to his          |                                                                                                                                                                                                                                                                                                                                                                                                                                                                                                                                                                                                                                                                                                                                |            |\n",
       "|    |     traditional stats? What does a VORP of 8.8 specifically suggest about his value to the Denver Nuggets that season?                          | 1. Beyond the box score: Traditional stats capture counting numbers, but VORP converts a player's contributions into wins—taking into account factors like efficiency, defense, and the context of team play. Essentially, while the raw stats show his ability to score, rebound, and assist, his VORP shows that he was also effective in many other areas (like spacing the floor, making the right plays, and playing valuable defense) that collectively helped his team win games.                                                                                                                                                                                                                                       |            |\n",
       "|    |                                                                                                                                                 |                                                                                                                                                                                                                                                                                                                                                                                                                                                                                                                                                                                                                                                                                                                                |            |\n",
       "|    |                                                                                                                                                 | 2. Replacement-level benchmark: The metric is built around the idea of a “replacement-level” player, someone who might be easily acquired if you needed to fill a roster spot. Jokić’s VORP of 8.8 indicates that his overall performance in various facets of the game was equivalent to adding nearly 9 wins to Denver’s record compared to if they had a generic, replacement-level player in his role.                                                                                                                                                                                                                                                                                                                     |            |\n",
       "|    |                                                                                                                                                 |                                                                                                                                                                                                                                                                                                                                                                                                                                                                                                                                                                                                                                                                                                                                |            |\n",
       "|    |                                                                                                                                                 | 3. Team value: For the Denver Nuggets, this means that Jokić wasn’t just posting impressive stats in isolation; his unique combination of scoring, rebounding, passing, and decision making was so impactful that his absence would have cost the team almost nine wins over the season. This high value underlines why he was not just a good stat-sheet performer but the cornerstone of his team’s success.                                                                                                                                                                                                                                                                                                                 |            |\n",
       "|    |                                                                                                                                                 |                                                                                                                                                                                                                                                                                                                                                                                                                                                                                                                                                                                                                                                                                                                                |            |\n",
       "|    |                                                                                                                                                 | In short, while his traditional stats are eye-catching on their own, the league-leading VORP of 8.8 quantifies how indispensable he was. It tells us that Jokić elevated his team’s performance significantly across many dimensions, making him worth almost 9 additional wins over what a typical replacement player would contribute.                                                                                                                                                                                                                                                                                                                                                                                       |            |\n",
       "|  3 | In the 2023-2024 season, consider Tyrese Haliburton of the Indiana Pacers and Anthony Davis of the Los Angeles Lakers. Haliburton               | Tyrese Haliburton and Anthony Davis served very different but equally crucial roles for their teams based on their statistical profiles.                                                                                                                                                                                                                                                                                                                                                                                                                                                                                                                                                                                       |    7.47343 |\n",
       "|    |     led the league in assists per game (10.9 APG) while scoring 20.1 PPG on efficient shooting splits (47.7% FG / 36.4% 3P / 85.5% FT).         |                                                                                                                                                                                                                                                                                                                                                                                                                                                                                                                                                                                                                                                                                                                                |            |\n",
       "|    |     Anthony Davis, playing primarily center/power forward, averaged 24.7 PPG, 12.6 RPG (3rd in NBA), and 2.3 BPG (4th in NBA). Both             | • Haliburton was primarily the offensive facilitator. His league-leading 10.9 assists per game indicate that he was the primary playmaker, setting up teammates and running the offense. While he contributed 20.1 points per game with highly efficient scoring splits, his role was centered on orchestrating the offense—making smart decisions, distributing the ball, and keeping the team’s attack fluid.                                                                                                                                                                                                                                                                                                                |            |\n",
       "|    |     players were critical to their teams' success. Based on these specific stats (PPG, APG, RPG, BPG), contrast the primary roles these         |                                                                                                                                                                                                                                                                                                                                                                                                                                                                                                                                                                                                                                                                                                                                |            |\n",
       "|    |     two All-Stars fulfilled for their respective teams during that season.                                                                      | • In contrast, Anthony Davis’s role was as a dominant two-way big man. Averaging 24.7 points, he was a key scoring option in the post and transition. His 12.6 rebounds per game and 2.3 blocks per game underscore his defensive and inside presence. Davis anchored the team’s defense and played a central role in protecting the rim, while also being relied on for his scoring and rebounding on the offensive end.                                                                                                                                                                                                                                                                                                      |            |\n",
       "|    |                                                                                                                                                 |                                                                                                                                                                                                                                                                                                                                                                                                                                                                                                                                                                                                                                                                                                                                |            |\n",
       "|    |                                                                                                                                                 | In summary, Haliburton’s primary role was that of a floor general and facilitator—a guard responsible for initiating and directing the offense—whereas Davis served as a versatile big man, combining scoring, strong rebounding, and elite rim protection to anchor the team on both ends of the floor.                                                                                                                                                                                                                                                                                                                                                                                                                       |            |"
      ],
      "text/plain": [
       "<IPython.core.display.Markdown object>"
      ]
     },
     "metadata": {},
     "output_type": "display_data"
    }
   ],
   "source": [
    "retrieval_prompts = [\n",
    "    \"How many points did Lebron James score on October 18th, 2018 against the Portland Trailblazers?\",\n",
    "    \"How many championships has Steph Curry won in his career?\",\n",
    "    \"How many games did Andre Iguodala miss in the 2016-2017 regular season?\",\n",
    "    \"What were the top 3 overall teams in terms of standings at the end of the 1996-1997 regular season?\"\n",
    "]\n",
    "\n",
    "reasoning_prompts = [\n",
    "    \"What do you get if you add Lebron James career point total with Kobe Bryant's career points total?\",\n",
    "    \"If you take the Miami Heat's regular season seed standing in the 2013 season compared to their seed in the 2010 season what is the difference?\",\n",
    "    \"If you add Micheal Jordan's and Wilt Chamberlain's highest scoring games point total together, what do you get?\",\n",
    "    \"How many combined MVP awards do Russell Westbrook and Kareem Abdul-Jabbar have?\"\n",
    "]\n",
    "\n",
    "long_prompts = [\n",
    "    '''\n",
    "    Consider two elite scorers from the 2022-2023 NBA season: Joel Embiid and Luka Dončić. Embiid won the scoring title averaging 33.1 PPG\n",
    "    on 54.8% FG and 65.5% True Shooting (TS%). Dončić averaged 32.4 PPG on 49.6% FG and 60.9% TS%. Both players had extremely high usage rates,\n",
    "    dominating the ball for their respective teams, the 76ers and Mavericks. Embiid primarily operated from the post and midrange, while Dončić\n",
    "    heavily relied on step-back threes and drives. Based purely on the provided PPG and efficiency metrics (FG%, TS%), which player scored more\n",
    "    efficiently during this season? Briefly explain what TS% tells us compared to just FG% in this context.\n",
    "    ''',\n",
    "    '''\n",
    "    Let's look at the Memphis Grizzlies. In the 2021-2022 season, they finished with the 4th best Offensive Rating (114.3) and 6th best\n",
    "    Defensive Rating (108.9), playing at the 3rd fastest Pace (101.02). They relied heavily on Ja Morant's drives, offensive rebounding,\n",
    "    and transition offense. The following season, 2022-2023, their Offensive Rating was 11th (114.7), Defensive Rating improved to 3rd \n",
    "    (110.7), and Pace remained high at 3rd (101.33). Despite Morant missing significant time, their defense anchored by Jaren Jackson Jr. \n",
    "    became more dominant. Did the Grizzlies become a better overall team based on net rating (Off Rating - Def Rating)? How did their\n",
    "    identity slightly shift between these two seasons according to these ratings and ranks?\n",
    "    ''',\n",
    "    ''' \n",
    "    Nikola Jokić finished the 2022-2023 NBA season with a Value Over Replacement Player (VORP) rating of 8.8, leading the league. \n",
    "    VORP is an estimate of a player's overall contribution to the team, measured in points per 100 team possessions, translated into \n",
    "    wins above what a readily available 'replacement-level' player would provide over the season. Jokić also averaged impressive \n",
    "    traditional stats: 24.5 points, 11.8 rebounds, and 9.8 assists per game. How does his league-leading VORP score add context to his \n",
    "    traditional stats? What does a VORP of 8.8 specifically suggest about his value to the Denver Nuggets that season?\n",
    "    ''',\n",
    "    '''\n",
    "    In the 2023-2024 season, consider Tyrese Haliburton of the Indiana Pacers and Anthony Davis of the Los Angeles Lakers. Haliburton\n",
    "    led the league in assists per game (10.9 APG) while scoring 20.1 PPG on efficient shooting splits (47.7% FG / 36.4% 3P / 85.5% FT). \n",
    "    Anthony Davis, playing primarily center/power forward, averaged 24.7 PPG, 12.6 RPG (3rd in NBA), and 2.3 BPG (4th in NBA). Both \n",
    "    players were critical to their teams' success. Based on these specific stats (PPG, APG, RPG, BPG), contrast the primary roles these\n",
    "    two All-Stars fulfilled for their respective teams during that season.\n",
    "    '''\n",
    "]\n",
    "\n",
    "# _, retrieval_times = run_tests_e2e(\"retrieval test\", retrieval_prompts)\n",
    "# _, reasoning_times = run_tests_e2e(\"reasoning test\", reasoning_prompts)\n",
    "_, retrieval_times = run_gpt_tests(\"retrival test\", retrieval_prompts)\n",
    "_, reasoning_times = run_gpt_tests(\"reasoning test\", reasoning_prompts)\n",
    "_, long_times = run_gpt_tests(\"long prompt test\", long_prompts)"
   ]
  },
  {
   "cell_type": "markdown",
   "id": "bfead328-5999-4dea-b439-542d3578e453",
   "metadata": {},
   "source": [
    "## Analysis Plots"
   ]
  },
  {
   "cell_type": "code",
   "execution_count": 11,
   "id": "952eb35f-7f7f-43d6-a7b0-f2b082636bcc",
   "metadata": {},
   "outputs": [
    {
     "name": "stdout",
     "output_type": "stream",
     "text": [
      "ChatGPT 03-mini average inference times:\n",
      "retrieval time: 17.4667130112648\n",
      "reasoning time: 13.317810714244843\n",
      "long prompt time: 9.155428171157837\n"
     ]
    },
    {
     "data": {
      "text/plain": [
       "\"\\n# Plotting\\nplt.scatter(models, avg_retrieval_time, marker='o', color='b', label='Avg Retrieval Time')\\nplt.scatter(models, avg_reasoning_time, marker='o', color='r', label='Avg Reasoning Time')\\n\\n# Adding labels and title\\nplt.xlabel('Models')\\nplt.ylabel('Avg Inference Time (s)')\\nplt.title('Model vs. Inference Time Plot')\\n\\n# Show the plot\\nplt.grid(True)\\nplt.legend()\\nplt.show()\\n\""
      ]
     },
     "execution_count": 11,
     "metadata": {},
     "output_type": "execute_result"
    }
   ],
   "source": [
    "import matplotlib.pyplot as plt\n",
    "\n",
    "prompt_types = [\"Retrieval\", \"Reasoning\", \"Long\"]\n",
    "avg_retrieval_time = sum(retrieval_times)/len(retrieval_times)\n",
    "avg_reasoning_time = sum(reasoning_times)/len(reasoning_times)\n",
    "avg_long_time = sum(long_times)/len(long_times)\n",
    "\n",
    "print(\"ChatGPT 03-mini average inference times:\")\n",
    "print(f\"retrieval time: {avg_retrieval_time}\")\n",
    "print(f\"reasoning time: {avg_reasoning_time}\")\n",
    "print(f\"long prompt time: {avg_long_time}\")\n",
    "\n",
    "'''\n",
    "# Plotting\n",
    "plt.scatter(models, avg_retrieval_time, marker='o', color='b', label='Avg Retrieval Time')\n",
    "plt.scatter(models, avg_reasoning_time, marker='o', color='r', label='Avg Reasoning Time')\n",
    "\n",
    "# Adding labels and title\n",
    "plt.xlabel('Models')\n",
    "plt.ylabel('Avg Inference Time (s)')\n",
    "plt.title('Model vs. Inference Time Plot')\n",
    "\n",
    "# Show the plot\n",
    "plt.grid(True)\n",
    "plt.legend()\n",
    "plt.show()\n",
    "'''"
   ]
  },
  {
   "cell_type": "code",
   "execution_count": 17,
   "id": "c20f2d85-7d52-40e3-b540-8f31b0d33300",
   "metadata": {},
   "outputs": [
    {
     "data": {
      "image/png": "[encoded data removed]",
      "text/plain": [
       "<Figure size 640x480 with 1 Axes>"
      ]
     },
     "metadata": {},
     "output_type": "display_data"
    }
   ],
   "source": [
    "retrieval_pass_results = [0, 1, 0, 1]\n",
    "reasoning_pass_results = [1, 1, 1, 0]\n",
    "long_prompt_pass_results = [1, 1, 0, 1]\n",
    "\n",
    "pass_rates = [ \n",
    "    sum(retrieval_pass_results)/len(retrieval_pass_results),\n",
    "    sum(reasoning_pass_results)/len(reasoning_pass_results),\n",
    "    sum(long_prompt_pass_results)/len(long_prompt_pass_results)\n",
    "]\n",
    "\n",
    "# Plotting\n",
    "plt.bar(prompt_types, pass_rates)\n",
    "\n",
    "# Adding labels and title\n",
    "plt.xlabel('Prompt Type')\n",
    "plt.ylabel('Pass Rate (%)')\n",
    "plt.title('Model Type vs. Pass Rate')\n",
    "\n",
    "# Show the plot\n",
    "plt.show()"
   ]
  },
  {
   "cell_type": "code",
   "execution_count": null,
   "id": "8a866299-d884-425f-b59d-b39465975217",
   "metadata": {},
   "outputs": [],
   "source": []
  }
 ],
 "metadata": {
  "kernelspec": {
   "display_name": "Python 3 (ipykernel)",
   "language": "python",
   "name": "python3"
  },
  "language_info": {
   "codemirror_mode": {
    "name": "ipython",
    "version": 3
   },
   "file_extension": ".py",
   "mimetype": "text/x-python",
   "name": "python",
   "nbconvert_exporter": "python",
   "pygments_lexer": "ipython3",
   "version": "3.12.8"
  }
 },
 "nbformat": 4,
 "nbformat_minor": 5
}
